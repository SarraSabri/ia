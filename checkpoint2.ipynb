{
 "cells": [
  {
   "cell_type": "code",
   "execution_count": 51,
   "metadata": {},
   "outputs": [
    {
     "name": "stdout",
     "output_type": "stream",
     "text": [
      "2002,2009,2016,2023,2037,2044,2051,2058,2072,2079,2086,2093,2107,2114,2121,2128,2142,2149,2156,2163,2177,2184,2191,2198,2212,2219,2226,2233,2247,2254,2261,2268,2282,2289,2296,2303,2317,2324,2331,2338,2352,2359,2366,2373,2387,2394,2401,2408,2422,2429,2436,2443,2457,2464,2471,2478,2492,2499,2506,2513,2527,2534,2541,2548,2562,2569,2576,2583,2597,2604,2611,2618,2632,2639,2646,2653,2667,2674,2681,2688,2702,2709,2716,2723,2737,2744,2751,2758,2772,2779,2786,2793,2807,2814,2821,2828,2842,2849,2856,2863,2877,2884,2891,2898,2912,2919,2926,2933,2947,2954,2961,2968,2982,2989,2996,3003,3017,3024,3031,3038,3052,3059,3066,3073,3087,3094,3101,3108,3122,3129,3136,3143,3157,3164,3171,3178,3192,3199,"
     ]
    }
   ],
   "source": [
    "#question1\n",
    "for x in range(2000,3201):\n",
    "    if (x%7==0)and(x%5!=0):\n",
    "        print(x, end=\",\")\n",
    "  "
   ]
  },
  {
   "cell_type": "code",
   "execution_count": 52,
   "metadata": {},
   "outputs": [
    {
     "name": "stdout",
     "output_type": "stream",
     "text": [
      "40320\n"
     ]
    }
   ],
   "source": [
    "#question2\n",
    "x=8\n",
    "y=x\n",
    "for x in range(1,x):\n",
    "    x=y*x\n",
    "    y=x\n",
    "print(x)    "
   ]
  },
  {
   "cell_type": "code",
   "execution_count": 53,
   "metadata": {},
   "outputs": [
    {
     "name": "stdout",
     "output_type": "stream",
     "text": [
      "{1: 1, 2: 4, 3: 9, 4: 16, 5: 25, 6: 36, 7: 49, 8: 64}\n"
     ]
    }
   ],
   "source": [
    "#question3\n",
    "x=8\n",
    "d={}\n",
    "for y in range(1,x+1):\n",
    "    d[y]=y*y\n",
    "\n",
    "print(d)"
   ]
  },
  {
   "cell_type": "code",
   "execution_count": 54,
   "metadata": {},
   "outputs": [
    {
     "name": "stdout",
     "output_type": "stream",
     "text": [
      "entrer une chainekitten\n",
      "entrer une position0\n",
      "itten\n"
     ]
    }
   ],
   "source": [
    "#question4\n",
    "ch=input(\"entrer une chaine\")\n",
    "if ch!=\"\":\n",
    "    m=input(\"entrer une position\")\n",
    "    m=int(m)\n",
    "    n=len(ch)\n",
    "    if (m>=0)and(m<=n):\n",
    "        ch=ch.replace(ch[m],\"\",1)\n",
    "        print(ch)"
   ]
  },
  {
   "cell_type": "code",
   "execution_count": 55,
   "metadata": {},
   "outputs": [
    {
     "name": "stdout",
     "output_type": "stream",
     "text": [
      "NumPy Array:\n",
      "[[0 1]\n",
      " [2 3]\n",
      " [4 5]]\n",
      "List: [[0, 1], [2, 3], [4, 5]]\n"
     ]
    }
   ],
   "source": [
    "#question5\n",
    "import numpy as np\n",
    "arr = np.array([[0,1],[2,3],[4,5]])\n",
    "\n",
    "print(f'NumPy Array:\\n{arr}')\n",
    "\n",
    "list1 = arr.tolist()\n",
    "\n",
    "print(f'List: {list1}')\n"
   ]
  },
  {
   "cell_type": "code",
   "execution_count": 56,
   "metadata": {},
   "outputs": [
    {
     "name": "stdout",
     "output_type": "stream",
     "text": [
      "\n",
      "Original arr:\n",
      "[0 1 2]\n",
      "\n",
      "Original arr2:\n",
      "[2 1 0]\n",
      "\n",
      "Covariance matrix of the said arrays:\n",
      " [[ 1. -1.]\n",
      " [-1.  1.]]\n"
     ]
    }
   ],
   "source": [
    "#question6\n",
    "import numpy as np\n",
    "arr = np.array([0,1,2])\n",
    "arr2 = np.array([2,1,0])\n",
    "print(\"\\nOriginal arr:\")\n",
    "print(arr)\n",
    "print(\"\\nOriginal arr2:\")\n",
    "print(arr2)\n",
    "print(\"\\nCovariance matrix of the said arrays:\\n\",np.cov(arr,arr2))"
   ]
  },
  {
   "cell_type": "code",
   "execution_count": 57,
   "metadata": {},
   "outputs": [
    {
     "name": "stdout",
     "output_type": "stream",
     "text": [
      "donnez d : 100,150,180\n",
      "18,22,24,"
     ]
    }
   ],
   "source": [
    "#question7\n",
    "import math \n",
    "c=50\n",
    "h=30\n",
    "d=input(\"donnez d : \")\n",
    "b = d.split(\",\")\n",
    "b = [int(i) for i in b]\n",
    "for x in range (0,len(b)) :\n",
    "   q=round(math.sqrt((2*c*b[x])/h))\n",
    "   print(q,end=\",\")\n",
    "  \n",
    "\n",
    "   "
   ]
  },
  {
   "cell_type": "code",
   "execution_count": null,
   "metadata": {},
   "outputs": [],
   "source": []
  },
  {
   "cell_type": "code",
   "execution_count": null,
   "metadata": {},
   "outputs": [],
   "source": []
  },
  {
   "cell_type": "code",
   "execution_count": null,
   "metadata": {},
   "outputs": [],
   "source": [
    "\n"
   ]
  },
  {
   "cell_type": "code",
   "execution_count": null,
   "metadata": {},
   "outputs": [],
   "source": []
  },
  {
   "cell_type": "code",
   "execution_count": null,
   "metadata": {},
   "outputs": [],
   "source": [
    "\n",
    "    "
   ]
  }
 ],
 "metadata": {
  "kernelspec": {
   "display_name": "Python 3",
   "language": "python",
   "name": "python3"
  },
  "language_info": {
   "codemirror_mode": {
    "name": "ipython",
    "version": 3
   },
   "file_extension": ".py",
   "mimetype": "text/x-python",
   "name": "python",
   "nbconvert_exporter": "python",
   "pygments_lexer": "ipython3",
   "version": "3.8.3"
  }
 },
 "nbformat": 4,
 "nbformat_minor": 4
}
